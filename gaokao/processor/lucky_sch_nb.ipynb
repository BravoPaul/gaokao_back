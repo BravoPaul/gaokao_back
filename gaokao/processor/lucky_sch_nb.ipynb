{
 "cells": [
  {
   "cell_type": "code",
   "execution_count": 48,
   "metadata": {
    "collapsed": true
   },
   "outputs": [],
   "source": [
    "import pandas as pd\n",
    "import sqlite3\n",
    "import os\n",
    "import sys\n",
    "import matplotlib as mpl\n",
    "mpl.use('TkAgg')\n",
    "mpl.rcParams['font.sans-serif'] = ['FangSong']\n",
    "import matplotlib.pyplot as plt"
   ]
  },
  {
   "cell_type": "code",
   "execution_count": 45,
   "outputs": [],
   "source": [
    "os.chdir('/Users/kunyue/project_personal/my_project/gaokao_back/gaokao/processor')\n",
    "cnx = sqlite3.connect('../../db.sqlite3')\n",
    "df_sch_major = pd.read_sql_query(\"SELECT * FROM gaokao_schoolmajor\", cnx)\n",
    "school = pd.read_sql_query(\"SELECT * FROM gaokao_school\", cnx)[['sch_id', 'sch_tags', 'sch_name']]\n",
    "schoolRank = pd.read_sql_query(\"SELECT * FROM gaokao_gaokaometarank\", cnx)"
   ],
   "metadata": {
    "collapsed": false,
    "pycharm": {
     "name": "#%%\n"
    }
   }
  },
  {
   "cell_type": "code",
   "execution_count": 30,
   "outputs": [],
   "source": [
    "def get_lucky_sch(wenli,batch_name):\n",
    "    df_trait = df_sch_major[df_sch_major['wenli']==wenli]\n",
    "    df_trait = df_trait[df_trait['batch_name']==batch_name]\n",
    "    df_trait['min_score_diff'] = df_trait['min_score_diff'].map(int)\n",
    "    df_trait['min_score_rank'] = df_trait['min_score_rank'].map(int)\n",
    "    df_trait = df_trait[(df_trait['min_score_diff']>0) & (df_trait['min_score_diff']<700)]\n",
    "    df_trait = df_trait[(df_trait['min_score_rank']>0) & (df_trait['min_score_rank']<1000000)]\n",
    "    df_detail = df_trait[['school_id','academic_year','enroll_major_name','min_score_diff','min_score_rank']]\n",
    "    df_grp_min = df_trait.groupby(['school_id','academic_year']).agg(min_score_diff=('min_score_diff',min),min_score_rank=('min_score_rank',max)).reset_index()\n",
    "    df_grp_min = pd.merge(df_grp_min,df_detail,on=['school_id','academic_year','min_score_diff','min_score_rank'])\n",
    "    df_min_last_year = df_grp_min[df_grp_min['academic_year']<'2019'].groupby(['school_id','academic_year','min_score_diff','min_score_rank']).head(1)\n",
    "    df_min_last_year.rename(columns={'min_score_diff':'last_min_score','min_score_rank':'last_min_rank'},inplace=True)\n",
    "    df_min_next_year = df_grp_min[df_grp_min['academic_year']>='2017']\n",
    "    df_min_next_year['academic_year'] = df_min_next_year['academic_year'].map(lambda x: str(int(x)-1))\n",
    "    df_min_next_year.rename(columns={'min_score_diff':'next_min_score','min_score_rank':'next_min_rank'},inplace=True)\n",
    "    df_result = pd.merge(df_min_last_year,df_min_next_year,on=['school_id','academic_year'])\n",
    "    df_result['diff_score'] = df_result.apply(lambda x:(int(x['last_min_score']) - int(x['next_min_score']))/int(x['last_min_score']),axis=1)\n",
    "    df_result['diff_rank'] = df_result.apply(lambda x:(int(x['last_min_rank']) - int(x['next_min_rank']))/int(x['last_min_rank']),axis=1)\n",
    "    df_result = df_result.sort_values(by=['diff_score'])\n",
    "    return df_result"
   ],
   "metadata": {
    "collapsed": false,
    "pycharm": {
     "name": "#%%\n"
    }
   }
  },
  {
   "cell_type": "code",
   "execution_count": 33,
   "outputs": [],
   "source": [
    "def show_result(df):\n",
    "    school['211'] = school['sch_tags'].map(lambda x: '211' if str(x).find('211') >= 0 else '')\n",
    "    school['985'] = school['sch_tags'].map(lambda x: '985' if str(x).find('985') >= 0 else '')\n",
    "    result = pd.merge(school,df,left_on='sch_id', right_on='school_id')\n",
    "    result = result.drop(['sch_tags','sch_id'],axis=1)\n",
    "    return result\n"
   ],
   "metadata": {
    "collapsed": false,
    "pycharm": {
     "name": "#%%\n"
    }
   }
  },
  {
   "cell_type": "code",
   "execution_count": 23,
   "outputs": [],
   "source": [
    "def get_school_rule(wenli, batch_name):\n",
    "    '''\n",
    "    录取人数变多，对低分排名近3年逐年升高，即录取分数越来越高\n",
    "    :return:\n",
    "    '''\n",
    "    # 三年上涨幅度每年超过5%\n",
    "    df_trait = df_sch_major[df_sch_major['wenli'] == wenli]\n",
    "    df_trait = df_trait[df_trait['batch_name'] == batch_name]\n",
    "    df_trait['min_score_diff'] = df_trait['min_score_diff'].map(int)\n",
    "    df_trait['min_score_rank'] = df_trait['min_score_rank'].map(int)\n",
    "    df_grp_min = df_trait.groupby(['school_id','academic_year']).agg(min_score_rank=('min_score_rank',max)).reset_index()\n",
    "    df_grp_min['diff'] = df_grp_min.sort_values(by=['school_id','academic_year']).groupby(['school_id'])['min_score_rank'].diff()\n",
    "    df_grp_min_2019_lt = df_grp_min[df_grp_min['academic_year']<'2019']\n",
    "    df_grp_min_2019_lt = df_grp_min_2019_lt.dropna(subset=['diff'])\n",
    "    df_grp_min_2019_lt['diff_percent'] = df_grp_min_2019_lt['diff']/df_grp_min_2019_lt['min_score_rank']\n",
    "    df_grp_min_2019_lt_count = df_grp_min_2019_lt[df_grp_min_2019_lt['diff_percent']<-0.05].groupby(['school_id'])['diff_percent'].count().reset_index()\n",
    "    df_grp_min_2019_lt_count_2 = df_grp_min_2019_lt_count[df_grp_min_2019_lt_count['diff_percent']>=2]\n",
    "    return df_grp_min_2019_lt_count_2"
   ],
   "metadata": {
    "collapsed": false,
    "pycharm": {
     "name": "#%%\n"
    }
   }
  },
  {
   "cell_type": "code",
   "execution_count": null,
   "outputs": [],
   "source": [
    "def plot_rank(wenli,academic_year):\n",
    "    schoolT = schoolRank[schoolRank['academic_year']==academic_year]\n",
    "    schoolT = schoolT[schoolT['wenli']==wenli]\n",
    "    schoolT = schoolT.sort_values(by = ['score'])\n",
    "    schoolT = schoolT[schoolT['score']>=200]\n",
    "    schoolT['range'] = pd.cut(schoolT['score'],100)\n",
    "    school_grp = schoolT.groupby(['range'])['rank'].sum().reset_index()\n",
    "    array_x = school_grp['range']\n",
    "    array_y = school_grp['rank']\n",
    "    print(array_x)\n",
    "\n",
    "\n",
    "    fig = plt.figure()\n",
    "    # 生成第一个子图在1行2列第一列位置\n",
    "    ax1 = fig.add_subplot(121)\n",
    "    # 生成第二子图在1行2列第二列位置\n",
    "    # ax2 = fig.add_subplot(122)\n",
    "    # 绘图并设置柱子宽度0.5\n",
    "    ax1.bar(array_x, array_y, width=0.1)\n",
    "    # 绘图默认柱子宽度0.8\n",
    "    # plt.show()\n"
   ],
   "metadata": {
    "collapsed": false,
    "pycharm": {
     "name": "#%%\n",
     "is_executing": true
    }
   }
  },
  {
   "cell_type": "code",
   "execution_count": null,
   "outputs": [],
   "source": [
    "plot_rank('2','2019')\n"
   ],
   "metadata": {
    "collapsed": false,
    "pycharm": {
     "name": "#%%\n",
     "is_executing": true
    }
   }
  },
  {
   "cell_type": "code",
   "execution_count": 25,
   "outputs": [],
   "source": [
    "result_rule = get_school_rule('2','本科第一批')\n"
   ],
   "metadata": {
    "collapsed": false,
    "pycharm": {
     "name": "#%%\n"
    }
   }
  },
  {
   "cell_type": "code",
   "execution_count": 34,
   "outputs": [
    {
     "name": "stderr",
     "output_type": "stream",
     "text": [
      "/anaconda3/envs/py3.6/lib/python3.6/site-packages/ipykernel_launcher.py:15: SettingWithCopyWarning: \n",
      "A value is trying to be set on a copy of a slice from a DataFrame.\n",
      "Try using .loc[row_indexer,col_indexer] = value instead\n",
      "\n",
      "See the caveats in the documentation: https://pandas.pydata.org/pandas-docs/stable/user_guide/indexing.html#returning-a-view-versus-a-copy\n",
      "  from ipykernel import kernelapp as app\n",
      "/Users/kunyue/python_env_tf11/lib/python3.6/site-packages/pandas/core/frame.py:4133: SettingWithCopyWarning: \n",
      "A value is trying to be set on a copy of a slice from a DataFrame\n",
      "\n",
      "See the caveats in the documentation: https://pandas.pydata.org/pandas-docs/stable/user_guide/indexing.html#returning-a-view-versus-a-copy\n",
      "  errors=errors,\n"
     ]
    }
   ],
   "source": [
    "result_lucky = get_lucky_sch('2','本科第一批')\n",
    "result_lucky = show_result(result_lucky)"
   ],
   "metadata": {
    "collapsed": false,
    "pycharm": {
     "name": "#%%\n"
    }
   }
  },
  {
   "cell_type": "code",
   "execution_count": 35,
   "outputs": [
    {
     "name": "stdout",
     "output_type": "stream",
     "text": [
      "             sch_name  211  985                 school_id academic_year  \\\n",
      "0              中国人民大学  211  985  52ac2e99747aec013fcf4f0b          2016   \n",
      "1              中国人民大学  211  985  52ac2e99747aec013fcf4f0b          2016   \n",
      "2              中国人民大学  211  985  52ac2e99747aec013fcf4f0b          2016   \n",
      "3              中国人民大学  211  985  52ac2e99747aec013fcf4f0b          2018   \n",
      "4              中国人民大学  211  985  52ac2e99747aec013fcf4f0b          2018   \n",
      "..                ...  ...  ...                       ...           ...   \n",
      "525      电子科技大学(沙河校区)            570c7212df6537f0c9a6f0f9          2018   \n",
      "526  中国石油大学(北京)克拉玛依校区            58b5434c7cadef952da48fb8          2016   \n",
      "527  中国石油大学(北京)克拉玛依校区            58b5434c7cadef952da48fb8          2017   \n",
      "528  中国石油大学(北京)克拉玛依校区            58b5434c7cadef952da48fb8          2017   \n",
      "529  中国石油大学(北京)克拉玛依校区            58b5434c7cadef952da48fb8          2018   \n",
      "\n",
      "     last_min_score  last_min_rank                   enroll_major_name_x  \\\n",
      "0               164            526                                  财政学类   \n",
      "1               164            526                                  财政学类   \n",
      "2               164            526                                  财政学类   \n",
      "3               181            359                                人力资源管理   \n",
      "4               181            359                                人力资源管理   \n",
      "..              ...            ...                                   ...   \n",
      "525             141           5240  软件工程(按大类招生)(按大类招生,示范性软件学院计划,按教学成本收费)   \n",
      "526               1          68830                               化学工程与工艺   \n",
      "527              21          58916                             过程装备与控制工程   \n",
      "528              21          58916                             过程装备与控制工程   \n",
      "529              36          55057                                资源勘查工程   \n",
      "\n",
      "     next_min_score  next_min_rank           enroll_major_name_y  diff_score  \\\n",
      "0               188            411              理科试验班(物理、化学与心理学)   -0.146341   \n",
      "1               188            411                        信息资源管理   -0.146341   \n",
      "2               188            411                        新闻传播学类   -0.146341   \n",
      "3               177            349  新闻传播学类(含新闻学、广播电视学、广告学、传播学专业)    0.022099   \n",
      "4               177            349                        人力资源管理    0.022099   \n",
      "..              ...            ...                           ...         ...   \n",
      "525             140           3783               软件工程(国家示范性软件学院)    0.007092   \n",
      "526              21          58916                     过程装备与控制工程  -20.000000   \n",
      "527              36          55057                     过程装备与控制工程   -0.714286   \n",
      "528              36          55057                        资源勘查工程   -0.714286   \n",
      "529              41          52494                       化学工程与工艺   -0.138889   \n",
      "\n",
      "     diff_rank  diff_percent  \n",
      "0     0.218631             2  \n",
      "1     0.218631             2  \n",
      "2     0.218631             2  \n",
      "3     0.027855             2  \n",
      "4     0.027855             2  \n",
      "..         ...           ...  \n",
      "525   0.278053             2  \n",
      "526   0.144036             2  \n",
      "527   0.065500             2  \n",
      "528   0.065500             2  \n",
      "529   0.046552             2  \n",
      "\n",
      "[530 rows x 14 columns]\n"
     ]
    }
   ],
   "source": [
    "result_analyse = pd.merge(result_lucky,result_rule,on=['school_id'])\n",
    "print(result_analyse)"
   ],
   "metadata": {
    "collapsed": false,
    "pycharm": {
     "name": "#%%\n"
    }
   }
  },
  {
   "cell_type": "code",
   "execution_count": 28,
   "outputs": [],
   "source": [
    "\n"
   ],
   "metadata": {
    "collapsed": false,
    "pycharm": {
     "name": "#%%\n"
    }
   }
  }
 ],
 "metadata": {
  "kernelspec": {
   "name": "python3",
   "language": "python",
   "display_name": "Python 3"
  },
  "language_info": {
   "codemirror_mode": {
    "name": "ipython",
    "version": 2
   },
   "file_extension": ".py",
   "mimetype": "text/x-python",
   "name": "python",
   "nbconvert_exporter": "python",
   "pygments_lexer": "ipython2",
   "version": "2.7.6"
  }
 },
 "nbformat": 4,
 "nbformat_minor": 0
}